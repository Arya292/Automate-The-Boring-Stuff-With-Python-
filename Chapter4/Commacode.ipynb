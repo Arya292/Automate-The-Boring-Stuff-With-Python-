{
 "cells": [
  {
   "cell_type": "code",
   "execution_count": null,
   "metadata": {},
   "outputs": [],
   "source": [
    "def Commacode(mylist) :\n",
    "        print(\"' \", end='') \n",
    "        for value in  range(len(mylist)-1) :\n",
    "                 print(mylist[ value] ,end=' ,')\n",
    "\n",
    "print(\"No : of values to be inputted\")\n",
    "n= input()\n",
    "print(\"Enter the vaues \")\n",
    "elements=[]\n",
    "for i in range(int(n)) :\n",
    "    a=input()\n",
    "    elements.append(a)\n",
    "Commacode(elements)  \n",
    "print (\"and \" + elements[-1]+\"'\")\n",
    "\n",
    "    \n",
    "\n"
   ]
  }
 ],
 "metadata": {
  "kernelspec": {
   "display_name": "Python 3",
   "language": "python",
   "name": "python3"
  },
  "language_info": {
   "codemirror_mode": {
    "name": "ipython",
    "version": 3
   },
   "file_extension": ".py",
   "mimetype": "text/x-python",
   "name": "python",
   "nbconvert_exporter": "python",
   "pygments_lexer": "ipython3",
   "version": "3.7.6"
  }
 },
 "nbformat": 4,
 "nbformat_minor": 4
}
