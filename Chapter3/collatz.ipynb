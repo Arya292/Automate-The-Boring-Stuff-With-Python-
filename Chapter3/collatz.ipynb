{
 "cells": [
  {
   "cell_type": "code",
   "execution_count": 3,
   "metadata": {},
   "outputs": [
    {
     "name": "stdout",
     "output_type": "stream",
     "text": [
      "Enter the number\n",
      "3\n",
      "10\n",
      "5\n",
      "16\n",
      "8\n",
      "4\n",
      "2\n",
      "1\n",
      "done\n"
     ]
    }
   ],
   "source": [
    "def collatz(number):\n",
    "    if (number%2==0):\n",
    "        number=number//2\n",
    "        print(number)\n",
    "        if(number==1):\n",
    "            print(\"done\")\n",
    "        else:\n",
    "            collatz(number)\n",
    "        \n",
    "\n",
    "    else:\n",
    "        number=3*number+1\n",
    "        print(number)\n",
    "        if(number==1):\n",
    "            print(\"done\")\n",
    "        else:\n",
    "            collatz(number)\n",
    "       \n",
    "\n",
    "print(\"Enter the number\")\n",
    "x = int(input())\n",
    "\n",
    "collatz(x)\n"
   ]
  },
  {
   "cell_type": "code",
   "execution_count": null,
   "metadata": {},
   "outputs": [],
   "source": []
  }
 ],
 "metadata": {
  "kernelspec": {
   "display_name": "Python 3",
   "language": "python",
   "name": "python3"
  },
  "language_info": {
   "codemirror_mode": {
    "name": "ipython",
    "version": 3
   },
   "file_extension": ".py",
   "mimetype": "text/x-python",
   "name": "python",
   "nbconvert_exporter": "python",
   "pygments_lexer": "ipython3",
   "version": "3.7.6"
  }
 },
 "nbformat": 4,
 "nbformat_minor": 4
}
